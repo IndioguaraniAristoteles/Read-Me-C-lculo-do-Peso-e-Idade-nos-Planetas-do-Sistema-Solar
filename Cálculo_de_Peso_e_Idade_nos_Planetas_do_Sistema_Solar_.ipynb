{
  "nbformat": 4,
  "nbformat_minor": 0,
  "metadata": {
    "colab": {
      "provenance": [],
      "toc_visible": true,
      "authorship_tag": "ABX9TyMbKhzEeXpLA1DMmfnabLal",
      "include_colab_link": true
    },
    "kernelspec": {
      "name": "python3",
      "display_name": "Python 3"
    },
    "language_info": {
      "name": "python"
    }
  },
  "cells": [
    {
      "cell_type": "markdown",
      "metadata": {
        "id": "view-in-github",
        "colab_type": "text"
      },
      "source": [
        "<a href=\"https://colab.research.google.com/github/IndioguaraniAristoteles/Read-Me-C-lculo-do-Peso-e-Idade-nos-Planetas-do-Sistema-Solar/blob/main/C%C3%A1lculo_de_Peso_e_Idade_nos_Planetas_do_Sistema_Solar_.ipynb\" target=\"_parent\"><img src=\"https://colab.research.google.com/assets/colab-badge.svg\" alt=\"Open In Colab\"/></a>"
      ]
    },
    {
      "cell_type": "code",
      "execution_count": null,
      "metadata": {
        "colab": {
          "base_uri": "https://localhost:8080/"
        },
        "id": "dZyNianO3euz",
        "outputId": "012b9253-3137-4327-9fd5-130dc7404a52"
      },
      "outputs": [
        {
          "output_type": "stream",
          "name": "stdout",
          "text": [
            "Digite seu peso em kg: 98\n",
            "Digite sua idade em anos: 96\n",
            "\n",
            "## Seu peso e idade em cada planeta:\n",
            "Terra: Peso: 961.38 N, Idade: 96.00 anos\n",
            "Mercúrio: Peso: 362.60 N, Idade: 400.00 anos\n",
            "Vênus: Peso: 869.26 N, Idade: 154.84 anos\n",
            "Marte: Peso: 363.58 N, Idade: 51.06 anos\n",
            "Júpiter: Peso: 2265.76 N, Idade: 8.09 anos\n",
            "Saturno: Peso: 1023.12 N, Idade: 3.26 anos\n",
            "Urano: Peso: 851.62 N, Idade: 1.14 anos\n",
            "Netuno: Peso: 1092.70 N, Idade: 0.58 anos\n"
          ]
        }
      ],
      "source": [
        "\n",
        "# Constantes de gravidade dos planetas\n",
        "gravidade_terra = 9.81  # m/s²\n",
        "gravidade_mercurio = 3.7  # m/s²\n",
        "gravidade_venus = 8.87  # m/s²\n",
        "gravidade_marte = 3.71  # m/s²\n",
        "gravidade_jupiter = 23.12  # m/s²\n",
        "gravidade_saturno = 10.44  # m/s²\n",
        "gravidade_urano = 8.69  # m/s²\n",
        "gravidade_netuno = 11.15  # m/s²\n",
        "\n",
        "# Constantes de tempo em anos terrestres\n",
        "ano_mercurio = 0.24  # anos\n",
        "ano_venus = 0.62  # anos\n",
        "ano_marte = 1.88  # anos\n",
        "ano_jupiter = 11.86  # anos\n",
        "ano_saturno = 29.46  # anos\n",
        "ano_urano = 84.01  # anos\n",
        "ano_netuno = 164.8  # anos\n",
        "\n",
        "# Função para calcular o peso em um planeta\n",
        "def calcular_peso(massa, gravidade):\n",
        "  \"\"\"\n",
        "  Calcula o peso de um objeto em um planeta com base na massa e gravidade.\n",
        "\n",
        "  Args:\n",
        "    massa: Massa do objeto em kg.\n",
        "    gravidade: Aceleração da gravidade do planeta em m/s².\n",
        "\n",
        "  Returns:\n",
        "    Peso do objeto em newtons (N).\n",
        "  \"\"\"\n",
        "  return massa * gravidade\n",
        "\n",
        "# Função para calcular a idade em um planeta\n",
        "def calcular_idade(idade_terra, ano_planeta):\n",
        "  \"\"\"\n",
        "  Calcula a idade em um planeta com base na idade na Terra e no período orbital do planeta.\n",
        "\n",
        "  Args:\n",
        "    idade_terra: Idade do objeto na Terra em anos.\n",
        "    ano_planeta: Período orbital do planeta em anos terrestres.\n",
        "\n",
        "  Returns:\n",
        "    Idade do objeto no planeta em anos planetários.\n",
        "  \"\"\"\n",
        "  return idade_terra / ano_planeta\n",
        "\n",
        "# Função principal\n",
        "def main():\n",
        "  # Obter peso e idade do usuário\n",
        "  massa = float(input(\"Digite seu peso em kg: \"))\n",
        "  idade_terra = float(input(\"Digite sua idade em anos: \"))\n",
        "\n",
        "  # Calcular peso e idade em cada planeta\n",
        "  print(\"\\n## Seu peso e idade em cada planeta:\")\n",
        "\n",
        "  for planeta, gravidade, ano_planeta in zip(\n",
        "      [\"Terra\", \"Mercúrio\", \"Vênus\", \"Marte\", \"Júpiter\", \"Saturno\", \"Urano\", \"Netuno\"],\n",
        "      [gravidade_terra, gravidade_mercurio, gravidade_venus, gravidade_marte, gravidade_jupiter, gravidade_saturno, gravidade_urano, gravidade_netuno],\n",
        "      [1, ano_mercurio, ano_venus, ano_marte, ano_jupiter, ano_saturno, ano_urano, ano_netuno]):\n",
        "    peso_planeta = calcular_peso(massa, gravidade)\n",
        "    idade_planeta = calcular_idade(idade_terra, ano_planeta)\n",
        "    print(f\"{planeta}: Peso: {peso_planeta:.2f} N, Idade: {idade_planeta:.2f} anos\")\n",
        "\n",
        "if __name__ == \"__main__\":\n",
        "  main()"
      ]
    }
  ]
}