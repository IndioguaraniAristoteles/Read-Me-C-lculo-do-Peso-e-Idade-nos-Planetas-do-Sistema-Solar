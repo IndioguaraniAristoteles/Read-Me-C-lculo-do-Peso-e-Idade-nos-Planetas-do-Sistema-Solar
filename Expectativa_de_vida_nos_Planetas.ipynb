{
  "nbformat": 4,
  "nbformat_minor": 0,
  "metadata": {
    "colab": {
      "provenance": [],
      "authorship_tag": "ABX9TyNdUHjFCqqhZLJOChHnEt1u",
      "include_colab_link": true
    },
    "kernelspec": {
      "name": "python3",
      "display_name": "Python 3"
    },
    "language_info": {
      "name": "python"
    }
  },
  "cells": [
    {
      "cell_type": "markdown",
      "metadata": {
        "id": "view-in-github",
        "colab_type": "text"
      },
      "source": [
        "<a href=\"https://colab.research.google.com/github/IndioguaraniAristoteles/Read-Me-C-lculo-do-Peso-e-Idade-nos-Planetas-do-Sistema-Solar/blob/main/Expectativa_de_vida_nos_Planetas.ipynb\" target=\"_parent\"><img src=\"https://colab.research.google.com/assets/colab-badge.svg\" alt=\"Open In Colab\"/></a>"
      ]
    },
    {
      "cell_type": "code",
      "execution_count": 1,
      "metadata": {
        "colab": {
          "base_uri": "https://localhost:8080/"
        },
        "id": "yA-PMNhaK80Y",
        "outputId": "41954f1e-0a7a-4ad7-abbf-144751838328"
      },
      "outputs": [
        {
          "output_type": "stream",
          "name": "stdout",
          "text": [
            "Expectativa de vida em cada planeta:\n",
            "Mercúrio: 4688.00 anos\n",
            "Vênus: 19440.00 anos\n",
            "Marte: 1968.00 anos\n",
            "Júpiter: 792.00 anos\n",
            "Saturno: 856.00 anos\n",
            "Urano: 1376.00 anos\n",
            "Netuno: 1288.00 anos\n"
          ]
        }
      ],
      "source": [
        "\n",
        "def calcular_expectativa_vida(periodo_rotacao_terra, periodo_rotacao_planeta):\n",
        "  \"\"\"\n",
        "  Calcula a expectativa de vida em um planeta com base na rotação em relação à Terra.\n",
        "\n",
        "  Parâmetros:\n",
        "    periodo_rotacao_terra: Período de rotação da Terra em dias.\n",
        "    periodo_rotacao_planeta: Período de rotação do planeta em dias.\n",
        "\n",
        "  Retorno:\n",
        "    Expectativa de vida no planeta em anos.\n",
        "  \"\"\"\n",
        "  proporcao_rotacao = periodo_rotacao_planeta / periodo_rotacao_terra\n",
        "  expectativa_vida_planeta = 80 * proporcao_rotacao\n",
        "\n",
        "  return expectativa_vida_planeta\n",
        "\n",
        "# Período de rotação da Terra em dias\n",
        "periodo_rotacao_terra = 1\n",
        "\n",
        "# Períodos de rotação dos planetas em dias\n",
        "periodo_rotacao_mercurio = 58.6\n",
        "periodo_rotacao_venus = 243\n",
        "periodo_rotacao_marte = 24.6\n",
        "periodo_rotacao_jupiter = 9.9\n",
        "periodo_rotacao_saturno = 10.7\n",
        "periodo_rotacao_urano = 17.2\n",
        "periodo_rotacao_netuno = 16.1\n",
        "\n",
        "# Cálculo da expectativa de vida em cada planeta\n",
        "expectativa_vida_mercurio = calcular_expectativa_vida(periodo_rotacao_terra, periodo_rotacao_mercurio)\n",
        "expectativa_vida_venus = calcular_expectativa_vida(periodo_rotacao_terra, periodo_rotacao_venus)\n",
        "expectativa_vida_marte = calcular_expectativa_vida(periodo_rotacao_terra, periodo_rotacao_marte)\n",
        "expectativa_vida_jupiter = calcular_expectativa_vida(periodo_rotacao_terra, periodo_rotacao_jupiter)\n",
        "expectativa_vida_saturno = calcular_expectativa_vida(periodo_rotacao_terra, periodo_rotacao_saturno)\n",
        "expectativa_vida_urano = calcular_expectativa_vida(periodo_rotacao_terra, periodo_rotacao_urano)\n",
        "expectativa_vida_netuno = calcular_expectativa_vida(periodo_rotacao_terra, periodo_rotacao_netuno)\n",
        "\n",
        "# Impressão dos resultados\n",
        "print(\"Expectativa de vida em cada planeta:\")\n",
        "print(f\"Mercúrio: {expectativa_vida_mercurio:.2f} anos\")\n",
        "print(f\"Vênus: {expectativa_vida_venus:.2f} anos\")\n",
        "print(f\"Marte: {expectativa_vida_marte:.2f} anos\")\n",
        "print(f\"Júpiter: {expectativa_vida_jupiter:.2f} anos\")\n",
        "print(f\"Saturno: {expectativa_vida_saturno:.2f} anos\")\n",
        "print(f\"Urano: {expectativa_vida_urano:.2f} anos\")\n",
        "print(f\"Netuno: {expectativa_vida_netuno:.2f} anos\")"
      ]
    }
  ]
}